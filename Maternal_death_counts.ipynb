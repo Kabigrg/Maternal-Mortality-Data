{
 "cells": [
  {
   "cell_type": "markdown",
   "id": "0016e362",
   "metadata": {
    "tags": []
   },
   "source": [
    "# Maternal Death count"
   ]
  },
  {
   "cell_type": "code",
   "execution_count": 313,
   "id": "0101f276-2769-441e-84c0-7793907331b0",
   "metadata": {},
   "outputs": [
    {
     "name": "stdout",
     "output_type": "stream",
     "text": [
      "Run time: 11/07/23 14:09:14\n"
     ]
    }
   ],
   "source": [
    "from datetime import datetime\n",
    "print(f'Run time: {datetime.now().strftime(\"%D %T\")}')"
   ]
  },
  {
   "cell_type": "markdown",
   "id": "48eab53b",
   "metadata": {},
   "source": [
    "### Import libraries"
   ]
  },
  {
   "cell_type": "code",
   "execution_count": 314,
   "id": "d14e2613",
   "metadata": {},
   "outputs": [],
   "source": [
    "import matplotlib.pyplot as plt\n",
    "from sklearn.model_selection import train_test_split\n",
    "from sklearn.metrics import classification_report\n",
    "from sklearn.metrics import confusion_matrix\n",
    "from sklearn import linear_model\n",
    "from sklearn.linear_model import LinearRegression\n",
    "from sklearn.metrics import mean_squared_error\n",
    "from sklearn import metrics\n",
    "import joblib\n",
    "import numpy as np\n",
    "import pandas as pd\n",
    "from matplotlib import pyplot as plt     # same as 'import matplotlib.pyplot as plt'\n",
    "import seaborn as sns\n",
    "from sklearn.impute import SimpleImputer\n",
    "from sklearn.preprocessing import StandardScaler\n",
    "from sklearn.preprocessing import MinMaxScaler"
   ]
  },
  {
   "cell_type": "markdown",
   "id": "8082ecc1",
   "metadata": {},
   "source": [
    "### Load data"
   ]
  },
  {
   "cell_type": "code",
   "execution_count": 315,
   "id": "b6d9e52b",
   "metadata": {},
   "outputs": [
    {
     "data": {
      "text/plain": [
       "(510, 9)"
      ]
     },
     "execution_count": 315,
     "metadata": {},
     "output_type": "execute_result"
    }
   ],
   "source": [
    "# You can download the original data set from\n",
    "#  https://www.kaggle.com/uciml/pima-indians-diabetes-database/data\n",
    "df = pd.read_csv(r\"C:\\Users\\Ashmita\\Desktop\\GWC PROJECT\\Provisional Maternal Death Counts - VSRR_Provisional_Maternal_Death_Counts.csv\")\n",
    "df.shape"
   ]
  },
  {
   "cell_type": "markdown",
   "id": "366b33fd",
   "metadata": {},
   "source": [
    "### Examine data"
   ]
  },
  {
   "cell_type": "code",
   "execution_count": 316,
   "id": "7e6fdd40-16c2-4e3d-83fc-ce414487170e",
   "metadata": {},
   "outputs": [
    {
     "name": "stdout",
     "output_type": "stream",
     "text": [
      "<class 'pandas.core.frame.DataFrame'>\n",
      "RangeIndex: 510 entries, 0 to 509\n",
      "Data columns (total 9 columns):\n",
      " #   Column             Non-Null Count  Dtype  \n",
      "---  ------             --------------  -----  \n",
      " 0   Data As Of         510 non-null    object \n",
      " 1   Jurisdiction       510 non-null    object \n",
      " 2   Group              510 non-null    object \n",
      " 3   Subgroup           510 non-null    object \n",
      " 4   Year of Death      510 non-null    int64  \n",
      " 5   Month of Death     510 non-null    int64  \n",
      " 6   Time Period        510 non-null    object \n",
      " 7   Month Ending Date  510 non-null    object \n",
      " 8   Maternal Deaths    455 non-null    float64\n",
      "dtypes: float64(1), int64(2), object(6)\n",
      "memory usage: 36.0+ KB\n"
     ]
    }
   ],
   "source": [
    "# Display info about dataframe\n",
    "df.info()"
   ]
  },
  {
   "cell_type": "code",
   "execution_count": 317,
   "id": "f310f6b1-a843-4c7a-98f4-99179c8a4c66",
   "metadata": {},
   "outputs": [
    {
     "data": {
      "text/plain": [
       "Index(['Data As Of', 'Jurisdiction', 'Group', 'Subgroup', 'Year of Death',\n",
       "       'Month of Death', 'Time Period', 'Month Ending Date',\n",
       "       'Maternal Deaths'],\n",
       "      dtype='object')"
      ]
     },
     "execution_count": 317,
     "metadata": {},
     "output_type": "execute_result"
    }
   ],
   "source": [
    "df.columns"
   ]
  },
  {
   "cell_type": "code",
   "execution_count": 318,
   "id": "0823fd83",
   "metadata": {},
   "outputs": [
    {
     "data": {
      "text/html": [
       "<div>\n",
       "<style scoped>\n",
       "    .dataframe tbody tr th:only-of-type {\n",
       "        vertical-align: middle;\n",
       "    }\n",
       "\n",
       "    .dataframe tbody tr th {\n",
       "        vertical-align: top;\n",
       "    }\n",
       "\n",
       "    .dataframe thead th {\n",
       "        text-align: right;\n",
       "    }\n",
       "</style>\n",
       "<table border=\"1\" class=\"dataframe\">\n",
       "  <thead>\n",
       "    <tr style=\"text-align: right;\">\n",
       "      <th></th>\n",
       "      <th>Data As Of</th>\n",
       "      <th>Jurisdiction</th>\n",
       "      <th>Group</th>\n",
       "      <th>Subgroup</th>\n",
       "      <th>Year of Death</th>\n",
       "      <th>Month of Death</th>\n",
       "      <th>Time Period</th>\n",
       "      <th>Month Ending Date</th>\n",
       "      <th>Maternal Deaths</th>\n",
       "    </tr>\n",
       "  </thead>\n",
       "  <tbody>\n",
       "    <tr>\n",
       "      <th>0</th>\n",
       "      <td>7/2/2023</td>\n",
       "      <td>United States</td>\n",
       "      <td>By Total</td>\n",
       "      <td>Total</td>\n",
       "      <td>2019</td>\n",
       "      <td>1</td>\n",
       "      <td>12 month-ending</td>\n",
       "      <td>1/31/2019</td>\n",
       "      <td>660.0</td>\n",
       "    </tr>\n",
       "    <tr>\n",
       "      <th>1</th>\n",
       "      <td>7/2/2023</td>\n",
       "      <td>United States</td>\n",
       "      <td>By Total</td>\n",
       "      <td>Total</td>\n",
       "      <td>2019</td>\n",
       "      <td>2</td>\n",
       "      <td>12 month-ending</td>\n",
       "      <td>2/28/2019</td>\n",
       "      <td>653.0</td>\n",
       "    </tr>\n",
       "    <tr>\n",
       "      <th>2</th>\n",
       "      <td>7/2/2023</td>\n",
       "      <td>United States</td>\n",
       "      <td>By Total</td>\n",
       "      <td>Total</td>\n",
       "      <td>2019</td>\n",
       "      <td>3</td>\n",
       "      <td>12 month-ending</td>\n",
       "      <td>3/31/2019</td>\n",
       "      <td>657.0</td>\n",
       "    </tr>\n",
       "    <tr>\n",
       "      <th>3</th>\n",
       "      <td>7/2/2023</td>\n",
       "      <td>United States</td>\n",
       "      <td>By Total</td>\n",
       "      <td>Total</td>\n",
       "      <td>2019</td>\n",
       "      <td>4</td>\n",
       "      <td>12 month-ending</td>\n",
       "      <td>4/30/2019</td>\n",
       "      <td>668.0</td>\n",
       "    </tr>\n",
       "    <tr>\n",
       "      <th>4</th>\n",
       "      <td>7/2/2023</td>\n",
       "      <td>United States</td>\n",
       "      <td>By Total</td>\n",
       "      <td>Total</td>\n",
       "      <td>2019</td>\n",
       "      <td>5</td>\n",
       "      <td>12 month-ending</td>\n",
       "      <td>5/31/2019</td>\n",
       "      <td>706.0</td>\n",
       "    </tr>\n",
       "  </tbody>\n",
       "</table>\n",
       "</div>"
      ],
      "text/plain": [
       "  Data As Of   Jurisdiction     Group Subgroup  Year of Death  Month of Death  \\\n",
       "0   7/2/2023  United States  By Total    Total           2019               1   \n",
       "1   7/2/2023  United States  By Total    Total           2019               2   \n",
       "2   7/2/2023  United States  By Total    Total           2019               3   \n",
       "3   7/2/2023  United States  By Total    Total           2019               4   \n",
       "4   7/2/2023  United States  By Total    Total           2019               5   \n",
       "\n",
       "       Time Period Month Ending Date  Maternal Deaths  \n",
       "0  12 month-ending         1/31/2019            660.0  \n",
       "1  12 month-ending         2/28/2019            653.0  \n",
       "2  12 month-ending         3/31/2019            657.0  \n",
       "3  12 month-ending         4/30/2019            668.0  \n",
       "4  12 month-ending         5/31/2019            706.0  "
      ]
     },
     "execution_count": 318,
     "metadata": {},
     "output_type": "execute_result"
    }
   ],
   "source": [
    "df.head()"
   ]
  },
  {
   "cell_type": "code",
   "execution_count": 319,
   "id": "4f624543",
   "metadata": {},
   "outputs": [
    {
     "data": {
      "text/plain": [
       "Data As Of            0\n",
       "Jurisdiction          0\n",
       "Group                 0\n",
       "Subgroup              0\n",
       "Year of Death         0\n",
       "Month of Death        0\n",
       "Time Period           0\n",
       "Month Ending Date     0\n",
       "Maternal Deaths      55\n",
       "dtype: int64"
      ]
     },
     "execution_count": 319,
     "metadata": {},
     "output_type": "execute_result"
    }
   ],
   "source": [
    "# Check for missing values (nulls)\n",
    "df.isnull().sum()"
   ]
  },
  {
   "cell_type": "code",
   "execution_count": 320,
   "id": "30ac75d5-0609-437d-98d2-37a204c173e3",
   "metadata": {},
   "outputs": [],
   "source": [
    "df = df.dropna(subset=['Maternal Deaths'])"
   ]
  },
  {
   "cell_type": "code",
   "execution_count": 321,
   "id": "722ab383-9c7e-462f-a005-3e1b9cc43089",
   "metadata": {},
   "outputs": [
    {
     "data": {
      "text/plain": [
       "Data As Of           0\n",
       "Jurisdiction         0\n",
       "Group                0\n",
       "Subgroup             0\n",
       "Year of Death        0\n",
       "Month of Death       0\n",
       "Time Period          0\n",
       "Month Ending Date    0\n",
       "Maternal Deaths      0\n",
       "dtype: int64"
      ]
     },
     "execution_count": 321,
     "metadata": {},
     "output_type": "execute_result"
    }
   ],
   "source": [
    "df.isnull().sum()"
   ]
  },
  {
   "cell_type": "code",
   "execution_count": 322,
   "id": "8488077f-70e3-48ed-8659-74e256e38464",
   "metadata": {},
   "outputs": [],
   "source": [
    "df['Maternal Deaths'].replace('0', np.nan, inplace=True)"
   ]
  },
  {
   "cell_type": "code",
   "execution_count": 323,
   "id": "c2b11546-949d-4dce-8326-bb93e0c629b2",
   "metadata": {},
   "outputs": [
    {
     "data": {
      "text/plain": [
       "0"
      ]
     },
     "execution_count": 323,
     "metadata": {},
     "output_type": "execute_result"
    }
   ],
   "source": [
    "df.duplicated().sum()"
   ]
  },
  {
   "cell_type": "code",
   "execution_count": 324,
   "id": "df7a98ba-c758-43c0-a1e6-6c1f21e9202c",
   "metadata": {},
   "outputs": [
    {
     "data": {
      "text/html": [
       "<div>\n",
       "<style scoped>\n",
       "    .dataframe tbody tr th:only-of-type {\n",
       "        vertical-align: middle;\n",
       "    }\n",
       "\n",
       "    .dataframe tbody tr th {\n",
       "        vertical-align: top;\n",
       "    }\n",
       "\n",
       "    .dataframe thead th {\n",
       "        text-align: right;\n",
       "    }\n",
       "</style>\n",
       "<table border=\"1\" class=\"dataframe\">\n",
       "  <thead>\n",
       "    <tr style=\"text-align: right;\">\n",
       "      <th></th>\n",
       "      <th>Year of Death</th>\n",
       "      <th>Month of Death</th>\n",
       "      <th>Maternal Deaths</th>\n",
       "    </tr>\n",
       "  </thead>\n",
       "  <tbody>\n",
       "    <tr>\n",
       "      <th>count</th>\n",
       "      <td>455.0</td>\n",
       "      <td>455.0</td>\n",
       "      <td>455.0</td>\n",
       "    </tr>\n",
       "    <tr>\n",
       "      <th>mean</th>\n",
       "      <td>2021.0</td>\n",
       "      <td>6.0</td>\n",
       "      <td>296.0</td>\n",
       "    </tr>\n",
       "    <tr>\n",
       "      <th>std</th>\n",
       "      <td>1.0</td>\n",
       "      <td>4.0</td>\n",
       "      <td>288.0</td>\n",
       "    </tr>\n",
       "    <tr>\n",
       "      <th>min</th>\n",
       "      <td>2019.0</td>\n",
       "      <td>1.0</td>\n",
       "      <td>10.0</td>\n",
       "    </tr>\n",
       "    <tr>\n",
       "      <th>25%</th>\n",
       "      <td>2020.0</td>\n",
       "      <td>3.0</td>\n",
       "      <td>98.0</td>\n",
       "    </tr>\n",
       "    <tr>\n",
       "      <th>50%</th>\n",
       "      <td>2021.0</td>\n",
       "      <td>6.0</td>\n",
       "      <td>181.0</td>\n",
       "    </tr>\n",
       "    <tr>\n",
       "      <th>75%</th>\n",
       "      <td>2022.0</td>\n",
       "      <td>9.0</td>\n",
       "      <td>424.0</td>\n",
       "    </tr>\n",
       "    <tr>\n",
       "      <th>max</th>\n",
       "      <td>2023.0</td>\n",
       "      <td>12.0</td>\n",
       "      <td>1246.0</td>\n",
       "    </tr>\n",
       "  </tbody>\n",
       "</table>\n",
       "</div>"
      ],
      "text/plain": [
       "       Year of Death  Month of Death  Maternal Deaths\n",
       "count          455.0           455.0            455.0\n",
       "mean          2021.0             6.0            296.0\n",
       "std              1.0             4.0            288.0\n",
       "min           2019.0             1.0             10.0\n",
       "25%           2020.0             3.0             98.0\n",
       "50%           2021.0             6.0            181.0\n",
       "75%           2022.0             9.0            424.0\n",
       "max           2023.0            12.0           1246.0"
      ]
     },
     "execution_count": 324,
     "metadata": {},
     "output_type": "execute_result"
    }
   ],
   "source": [
    "df.describe().round()"
   ]
  },
  {
   "cell_type": "code",
   "execution_count": 325,
   "id": "315fd773-346d-4892-b68b-647acece12f3",
   "metadata": {},
   "outputs": [
    {
     "data": {
      "text/html": [
       "<div>\n",
       "<style scoped>\n",
       "    .dataframe tbody tr th:only-of-type {\n",
       "        vertical-align: middle;\n",
       "    }\n",
       "\n",
       "    .dataframe tbody tr th {\n",
       "        vertical-align: top;\n",
       "    }\n",
       "\n",
       "    .dataframe thead th {\n",
       "        text-align: right;\n",
       "    }\n",
       "</style>\n",
       "<table border=\"1\" class=\"dataframe\">\n",
       "  <thead>\n",
       "    <tr style=\"text-align: right;\">\n",
       "      <th></th>\n",
       "      <th>Data As Of</th>\n",
       "      <th>Subgroup</th>\n",
       "      <th>Year of Death</th>\n",
       "      <th>Month of Death</th>\n",
       "      <th>Month Ending Date</th>\n",
       "      <th>Maternal Deaths</th>\n",
       "    </tr>\n",
       "  </thead>\n",
       "  <tbody>\n",
       "    <tr>\n",
       "      <th>0</th>\n",
       "      <td>7/2/2023</td>\n",
       "      <td>Total</td>\n",
       "      <td>2019</td>\n",
       "      <td>1</td>\n",
       "      <td>1/31/2019</td>\n",
       "      <td>660.0</td>\n",
       "    </tr>\n",
       "    <tr>\n",
       "      <th>1</th>\n",
       "      <td>7/2/2023</td>\n",
       "      <td>Total</td>\n",
       "      <td>2019</td>\n",
       "      <td>2</td>\n",
       "      <td>2/28/2019</td>\n",
       "      <td>653.0</td>\n",
       "    </tr>\n",
       "    <tr>\n",
       "      <th>2</th>\n",
       "      <td>7/2/2023</td>\n",
       "      <td>Total</td>\n",
       "      <td>2019</td>\n",
       "      <td>3</td>\n",
       "      <td>3/31/2019</td>\n",
       "      <td>657.0</td>\n",
       "    </tr>\n",
       "    <tr>\n",
       "      <th>3</th>\n",
       "      <td>7/2/2023</td>\n",
       "      <td>Total</td>\n",
       "      <td>2019</td>\n",
       "      <td>4</td>\n",
       "      <td>4/30/2019</td>\n",
       "      <td>668.0</td>\n",
       "    </tr>\n",
       "    <tr>\n",
       "      <th>4</th>\n",
       "      <td>7/2/2023</td>\n",
       "      <td>Total</td>\n",
       "      <td>2019</td>\n",
       "      <td>5</td>\n",
       "      <td>5/31/2019</td>\n",
       "      <td>706.0</td>\n",
       "    </tr>\n",
       "  </tbody>\n",
       "</table>\n",
       "</div>"
      ],
      "text/plain": [
       "  Data As Of Subgroup  Year of Death  Month of Death Month Ending Date  \\\n",
       "0   7/2/2023    Total           2019               1         1/31/2019   \n",
       "1   7/2/2023    Total           2019               2         2/28/2019   \n",
       "2   7/2/2023    Total           2019               3         3/31/2019   \n",
       "3   7/2/2023    Total           2019               4         4/30/2019   \n",
       "4   7/2/2023    Total           2019               5         5/31/2019   \n",
       "\n",
       "   Maternal Deaths  \n",
       "0            660.0  \n",
       "1            653.0  \n",
       "2            657.0  \n",
       "3            668.0  \n",
       "4            706.0  "
      ]
     },
     "execution_count": 325,
     "metadata": {},
     "output_type": "execute_result"
    }
   ],
   "source": [
    "# Drop column Group\n",
    "df.drop(['Group', 'Time Period','Jurisdiction'], axis=1, inplace=True)\n",
    "df.head()"
   ]
  },
  {
   "cell_type": "markdown",
   "id": "2d02d940-3320-4b63-bacf-17aca707e85d",
   "metadata": {},
   "source": [
    "### Visualize data using Pandas"
   ]
  },
  {
   "cell_type": "code",
   "execution_count": 326,
   "id": "aebcfb6e-b30a-4ad3-9aa3-f570b2cb601c",
   "metadata": {},
   "outputs": [
    {
     "data": {
      "image/png": "[encoded data removed]",
      "text/plain": [
       "<Figure size 640x480 with 1 Axes>"
      ]
     },
     "metadata": {},
     "output_type": "display_data"
    }
   ],
   "source": [
    "# Display average Maternal Deaths by Year\n",
    "df.groupby('Year of Death')['Maternal Deaths'].mean().plot(kind='bar')\n",
    "plt.show()\n"
   ]
  },
  {
   "cell_type": "code",
   "execution_count": 327,
   "id": "f62f3fe4-b814-4583-834f-34d1babeb70b",
   "metadata": {},
   "outputs": [
    {
     "data": {
      "text/html": [
       "<div>\n",
       "<style scoped>\n",
       "    .dataframe tbody tr th:only-of-type {\n",
       "        vertical-align: middle;\n",
       "    }\n",
       "\n",
       "    .dataframe tbody tr th {\n",
       "        vertical-align: top;\n",
       "    }\n",
       "\n",
       "    .dataframe thead th {\n",
       "        text-align: right;\n",
       "    }\n",
       "</style>\n",
       "<table border=\"1\" class=\"dataframe\">\n",
       "  <thead>\n",
       "    <tr style=\"text-align: right;\">\n",
       "      <th></th>\n",
       "      <th>Maternal Deaths</th>\n",
       "    </tr>\n",
       "    <tr>\n",
       "      <th>Subgroup</th>\n",
       "      <th></th>\n",
       "    </tr>\n",
       "  </thead>\n",
       "  <tbody>\n",
       "    <tr>\n",
       "      <th>25-39 years</th>\n",
       "      <td>627.0</td>\n",
       "    </tr>\n",
       "    <tr>\n",
       "      <th>40 years and over</th>\n",
       "      <td>135.0</td>\n",
       "    </tr>\n",
       "    <tr>\n",
       "      <th>Hispanic</th>\n",
       "      <td>160.0</td>\n",
       "    </tr>\n",
       "    <tr>\n",
       "      <th>Non-Hispanic American Indian or Alaska Native</th>\n",
       "      <td>18.0</td>\n",
       "    </tr>\n",
       "    <tr>\n",
       "      <th>Non-Hispanic Asian</th>\n",
       "      <td>32.0</td>\n",
       "    </tr>\n",
       "    <tr>\n",
       "      <th>Non-Hispanic Black</th>\n",
       "      <td>280.0</td>\n",
       "    </tr>\n",
       "    <tr>\n",
       "      <th>Non-Hispanic White</th>\n",
       "      <td>379.0</td>\n",
       "    </tr>\n",
       "    <tr>\n",
       "      <th>Total</th>\n",
       "      <td>885.0</td>\n",
       "    </tr>\n",
       "    <tr>\n",
       "      <th>Under 25 years</th>\n",
       "      <td>123.0</td>\n",
       "    </tr>\n",
       "  </tbody>\n",
       "</table>\n",
       "</div>"
      ],
      "text/plain": [
       "                                               Maternal Deaths\n",
       "Subgroup                                                      \n",
       "25-39 years                                              627.0\n",
       "40 years and over                                        135.0\n",
       "Hispanic                                                 160.0\n",
       "Non-Hispanic American Indian or Alaska Native             18.0\n",
       "Non-Hispanic Asian                                        32.0\n",
       "Non-Hispanic Black                                       280.0\n",
       "Non-Hispanic White                                       379.0\n",
       "Total                                                    885.0\n",
       "Under 25 years                                           123.0"
      ]
     },
     "execution_count": 327,
     "metadata": {},
     "output_type": "execute_result"
    }
   ],
   "source": [
    "df1 = df.groupby('Subgroup').mean(numeric_only=True)[['Maternal Deaths']]\n",
    "df1.round()"
   ]
  },
  {
   "cell_type": "code",
   "execution_count": 328,
   "id": "aa06cb26-ac3b-4424-b2f7-9f6f8147feef",
   "metadata": {},
   "outputs": [],
   "source": [
    "grouped_data = df.groupby('Subgroup')['Maternal Deaths'].mean()"
   ]
  },
  {
   "cell_type": "markdown",
   "id": "8d8bf136-31ca-4228-8717-ce870446d25d",
   "metadata": {},
   "source": [
    "grouped_data"
   ]
  },
  {
   "cell_type": "code",
   "execution_count": 329,
   "id": "993a018e-d388-44ed-a33a-0ce78edd52e6",
   "metadata": {},
   "outputs": [
    {
     "data": {
      "text/plain": [
       "Subgroup\n",
       "25-39 years          627.0\n",
       "40 years and over    135.0\n",
       "Under 25 years       123.0\n",
       "Name: Maternal Deaths, dtype: float64"
      ]
     },
     "execution_count": 329,
     "metadata": {},
     "output_type": "execute_result"
    }
   ],
   "source": [
    "SubgroupByAge = grouped_data.loc[['25-39 years','40 years and over','Under 25 years']]\n",
    "SubgroupByAge.round()\n"
   ]
  },
  {
   "cell_type": "code",
   "execution_count": 330,
   "id": "273686e0-dc91-4203-bcb0-563ab8c5e7cf",
   "metadata": {},
   "outputs": [
    {
     "data": {
      "text/plain": [
       "Subgroup\n",
       "Hispanic                                         160.0\n",
       "Non-Hispanic American Indian or Alaska Native     18.0\n",
       "Non-Hispanic Asian                                32.0\n",
       "Non-Hispanic Black                               280.0\n",
       "Non-Hispanic White                               379.0\n",
       "Name: Maternal Deaths, dtype: float64"
      ]
     },
     "execution_count": 330,
     "metadata": {},
     "output_type": "execute_result"
    }
   ],
   "source": [
    "SubgroupByRace = grouped_data.loc[['Hispanic','Non-Hispanic American Indian or Alaska Native','Non-Hispanic Asian', 'Non-Hispanic Black', 'Non-Hispanic White']]\n",
    "SubgroupByRace.round()"
   ]
  },
  {
   "cell_type": "code",
   "execution_count": 331,
   "id": "aa9a7ccd-9efa-4533-8296-92320b5395c6",
   "metadata": {},
   "outputs": [
    {
     "data": {
      "text/html": [
       "<div>\n",
       "<style scoped>\n",
       "    .dataframe tbody tr th:only-of-type {\n",
       "        vertical-align: middle;\n",
       "    }\n",
       "\n",
       "    .dataframe tbody tr th {\n",
       "        vertical-align: top;\n",
       "    }\n",
       "\n",
       "    .dataframe thead th {\n",
       "        text-align: right;\n",
       "    }\n",
       "</style>\n",
       "<table border=\"1\" class=\"dataframe\">\n",
       "  <thead>\n",
       "    <tr style=\"text-align: right;\">\n",
       "      <th></th>\n",
       "      <th>Data As Of</th>\n",
       "      <th>Subgroup</th>\n",
       "      <th>Year of Death</th>\n",
       "      <th>Month of Death</th>\n",
       "      <th>Month Ending Date</th>\n",
       "      <th>Maternal Deaths</th>\n",
       "    </tr>\n",
       "  </thead>\n",
       "  <tbody>\n",
       "    <tr>\n",
       "      <th>0</th>\n",
       "      <td>7/2/2023</td>\n",
       "      <td>Total</td>\n",
       "      <td>2019</td>\n",
       "      <td>1</td>\n",
       "      <td>1/31/2019</td>\n",
       "      <td>660.0</td>\n",
       "    </tr>\n",
       "    <tr>\n",
       "      <th>1</th>\n",
       "      <td>7/2/2023</td>\n",
       "      <td>Total</td>\n",
       "      <td>2019</td>\n",
       "      <td>2</td>\n",
       "      <td>2/28/2019</td>\n",
       "      <td>653.0</td>\n",
       "    </tr>\n",
       "    <tr>\n",
       "      <th>2</th>\n",
       "      <td>7/2/2023</td>\n",
       "      <td>Total</td>\n",
       "      <td>2019</td>\n",
       "      <td>3</td>\n",
       "      <td>3/31/2019</td>\n",
       "      <td>657.0</td>\n",
       "    </tr>\n",
       "    <tr>\n",
       "      <th>3</th>\n",
       "      <td>7/2/2023</td>\n",
       "      <td>Total</td>\n",
       "      <td>2019</td>\n",
       "      <td>4</td>\n",
       "      <td>4/30/2019</td>\n",
       "      <td>668.0</td>\n",
       "    </tr>\n",
       "    <tr>\n",
       "      <th>4</th>\n",
       "      <td>7/2/2023</td>\n",
       "      <td>Total</td>\n",
       "      <td>2019</td>\n",
       "      <td>5</td>\n",
       "      <td>5/31/2019</td>\n",
       "      <td>706.0</td>\n",
       "    </tr>\n",
       "  </tbody>\n",
       "</table>\n",
       "</div>"
      ],
      "text/plain": [
       "  Data As Of Subgroup  Year of Death  Month of Death Month Ending Date  \\\n",
       "0   7/2/2023    Total           2019               1         1/31/2019   \n",
       "1   7/2/2023    Total           2019               2         2/28/2019   \n",
       "2   7/2/2023    Total           2019               3         3/31/2019   \n",
       "3   7/2/2023    Total           2019               4         4/30/2019   \n",
       "4   7/2/2023    Total           2019               5         5/31/2019   \n",
       "\n",
       "   Maternal Deaths  \n",
       "0            660.0  \n",
       "1            653.0  \n",
       "2            657.0  \n",
       "3            668.0  \n",
       "4            706.0  "
      ]
     },
     "execution_count": 331,
     "metadata": {},
     "output_type": "execute_result"
    }
   ],
   "source": [
    "df.head()"
   ]
  },
  {
   "cell_type": "markdown",
   "id": "7875f281-8159-4795-aa81-44694543e3dc",
   "metadata": {},
   "source": [
    "### Prepare data for model training"
   ]
  },
  {
   "cell_type": "code",
   "execution_count": 332,
   "id": "f5730b6d-5f12-4d0e-93e0-d282fc9690e7",
   "metadata": {},
   "outputs": [
    {
     "data": {
      "text/html": [
       "<div>\n",
       "<style scoped>\n",
       "    .dataframe tbody tr th:only-of-type {\n",
       "        vertical-align: middle;\n",
       "    }\n",
       "\n",
       "    .dataframe tbody tr th {\n",
       "        vertical-align: top;\n",
       "    }\n",
       "\n",
       "    .dataframe thead th {\n",
       "        text-align: right;\n",
       "    }\n",
       "</style>\n",
       "<table border=\"1\" class=\"dataframe\">\n",
       "  <thead>\n",
       "    <tr style=\"text-align: right;\">\n",
       "      <th></th>\n",
       "      <th>Data As Of</th>\n",
       "      <th>Year of Death</th>\n",
       "      <th>Month of Death</th>\n",
       "      <th>Month Ending Date</th>\n",
       "      <th>Maternal Deaths</th>\n",
       "    </tr>\n",
       "  </thead>\n",
       "  <tbody>\n",
       "    <tr>\n",
       "      <th>0</th>\n",
       "      <td>7/2/2023</td>\n",
       "      <td>2019</td>\n",
       "      <td>1</td>\n",
       "      <td>1/31/2019</td>\n",
       "      <td>660.0</td>\n",
       "    </tr>\n",
       "    <tr>\n",
       "      <th>1</th>\n",
       "      <td>7/2/2023</td>\n",
       "      <td>2019</td>\n",
       "      <td>2</td>\n",
       "      <td>2/28/2019</td>\n",
       "      <td>653.0</td>\n",
       "    </tr>\n",
       "    <tr>\n",
       "      <th>2</th>\n",
       "      <td>7/2/2023</td>\n",
       "      <td>2019</td>\n",
       "      <td>3</td>\n",
       "      <td>3/31/2019</td>\n",
       "      <td>657.0</td>\n",
       "    </tr>\n",
       "    <tr>\n",
       "      <th>3</th>\n",
       "      <td>7/2/2023</td>\n",
       "      <td>2019</td>\n",
       "      <td>4</td>\n",
       "      <td>4/30/2019</td>\n",
       "      <td>668.0</td>\n",
       "    </tr>\n",
       "    <tr>\n",
       "      <th>4</th>\n",
       "      <td>7/2/2023</td>\n",
       "      <td>2019</td>\n",
       "      <td>5</td>\n",
       "      <td>5/31/2019</td>\n",
       "      <td>706.0</td>\n",
       "    </tr>\n",
       "  </tbody>\n",
       "</table>\n",
       "</div>"
      ],
      "text/plain": [
       "  Data As Of  Year of Death  Month of Death Month Ending Date  Maternal Deaths\n",
       "0   7/2/2023           2019               1         1/31/2019            660.0\n",
       "1   7/2/2023           2019               2         2/28/2019            653.0\n",
       "2   7/2/2023           2019               3         3/31/2019            657.0\n",
       "3   7/2/2023           2019               4         4/30/2019            668.0\n",
       "4   7/2/2023           2019               5         5/31/2019            706.0"
      ]
     },
     "execution_count": 332,
     "metadata": {},
     "output_type": "execute_result"
    }
   ],
   "source": [
    "# Drop non-numeric columns: region\n",
    "df.drop('Subgroup',axis=1, inplace=True)\n",
    "df.head()"
   ]
  },
  {
   "cell_type": "code",
   "execution_count": 333,
   "id": "a8ce4219-bdeb-4f0e-af8b-d23b24f32a73",
   "metadata": {},
   "outputs": [
    {
     "data": {
      "text/html": [
       "<div>\n",
       "<style scoped>\n",
       "    .dataframe tbody tr th:only-of-type {\n",
       "        vertical-align: middle;\n",
       "    }\n",
       "\n",
       "    .dataframe tbody tr th {\n",
       "        vertical-align: top;\n",
       "    }\n",
       "\n",
       "    .dataframe thead th {\n",
       "        text-align: right;\n",
       "    }\n",
       "</style>\n",
       "<table border=\"1\" class=\"dataframe\">\n",
       "  <thead>\n",
       "    <tr style=\"text-align: right;\">\n",
       "      <th></th>\n",
       "      <th>Data As Of</th>\n",
       "      <th>Month of Death</th>\n",
       "      <th>Month Ending Date</th>\n",
       "      <th>Maternal Deaths</th>\n",
       "    </tr>\n",
       "  </thead>\n",
       "  <tbody>\n",
       "    <tr>\n",
       "      <th>0</th>\n",
       "      <td>7/2/2023</td>\n",
       "      <td>1</td>\n",
       "      <td>1/31/2019</td>\n",
       "      <td>660.0</td>\n",
       "    </tr>\n",
       "    <tr>\n",
       "      <th>1</th>\n",
       "      <td>7/2/2023</td>\n",
       "      <td>2</td>\n",
       "      <td>2/28/2019</td>\n",
       "      <td>653.0</td>\n",
       "    </tr>\n",
       "    <tr>\n",
       "      <th>2</th>\n",
       "      <td>7/2/2023</td>\n",
       "      <td>3</td>\n",
       "      <td>3/31/2019</td>\n",
       "      <td>657.0</td>\n",
       "    </tr>\n",
       "    <tr>\n",
       "      <th>3</th>\n",
       "      <td>7/2/2023</td>\n",
       "      <td>4</td>\n",
       "      <td>4/30/2019</td>\n",
       "      <td>668.0</td>\n",
       "    </tr>\n",
       "    <tr>\n",
       "      <th>4</th>\n",
       "      <td>7/2/2023</td>\n",
       "      <td>5</td>\n",
       "      <td>5/31/2019</td>\n",
       "      <td>706.0</td>\n",
       "    </tr>\n",
       "  </tbody>\n",
       "</table>\n",
       "</div>"
      ],
      "text/plain": [
       "  Data As Of  Month of Death Month Ending Date  Maternal Deaths\n",
       "0   7/2/2023               1         1/31/2019            660.0\n",
       "1   7/2/2023               2         2/28/2019            653.0\n",
       "2   7/2/2023               3         3/31/2019            657.0\n",
       "3   7/2/2023               4         4/30/2019            668.0\n",
       "4   7/2/2023               5         5/31/2019            706.0"
      ]
     },
     "execution_count": 333,
     "metadata": {},
     "output_type": "execute_result"
    }
   ],
   "source": [
    "df.drop('Year of Death' ,axis=1, inplace=True)\n",
    "df.head()"
   ]
  },
  {
   "cell_type": "code",
   "execution_count": 334,
   "id": "5672a2bd-d603-4ec1-8ff4-3989afa0d458",
   "metadata": {},
   "outputs": [],
   "source": [
    "#df.drop('Month Ending Date' ,axis=1, inplace=True)\n",
    "#df.head()"
   ]
  },
  {
   "cell_type": "code",
   "execution_count": 335,
   "id": "4162cca7-f5c8-42f3-8a55-68adf889391b",
   "metadata": {},
   "outputs": [
    {
     "data": {
      "text/html": [
       "<div>\n",
       "<style scoped>\n",
       "    .dataframe tbody tr th:only-of-type {\n",
       "        vertical-align: middle;\n",
       "    }\n",
       "\n",
       "    .dataframe tbody tr th {\n",
       "        vertical-align: top;\n",
       "    }\n",
       "\n",
       "    .dataframe thead th {\n",
       "        text-align: right;\n",
       "    }\n",
       "</style>\n",
       "<table border=\"1\" class=\"dataframe\">\n",
       "  <thead>\n",
       "    <tr style=\"text-align: right;\">\n",
       "      <th></th>\n",
       "      <th>Month of Death</th>\n",
       "      <th>Month Ending Date</th>\n",
       "      <th>Maternal Deaths</th>\n",
       "    </tr>\n",
       "  </thead>\n",
       "  <tbody>\n",
       "    <tr>\n",
       "      <th>0</th>\n",
       "      <td>1</td>\n",
       "      <td>1/31/2019</td>\n",
       "      <td>660.0</td>\n",
       "    </tr>\n",
       "    <tr>\n",
       "      <th>1</th>\n",
       "      <td>2</td>\n",
       "      <td>2/28/2019</td>\n",
       "      <td>653.0</td>\n",
       "    </tr>\n",
       "    <tr>\n",
       "      <th>2</th>\n",
       "      <td>3</td>\n",
       "      <td>3/31/2019</td>\n",
       "      <td>657.0</td>\n",
       "    </tr>\n",
       "    <tr>\n",
       "      <th>3</th>\n",
       "      <td>4</td>\n",
       "      <td>4/30/2019</td>\n",
       "      <td>668.0</td>\n",
       "    </tr>\n",
       "    <tr>\n",
       "      <th>4</th>\n",
       "      <td>5</td>\n",
       "      <td>5/31/2019</td>\n",
       "      <td>706.0</td>\n",
       "    </tr>\n",
       "  </tbody>\n",
       "</table>\n",
       "</div>"
      ],
      "text/plain": [
       "   Month of Death Month Ending Date  Maternal Deaths\n",
       "0               1         1/31/2019            660.0\n",
       "1               2         2/28/2019            653.0\n",
       "2               3         3/31/2019            657.0\n",
       "3               4         4/30/2019            668.0\n",
       "4               5         5/31/2019            706.0"
      ]
     },
     "execution_count": 335,
     "metadata": {},
     "output_type": "execute_result"
    }
   ],
   "source": [
    "df.drop('Data As Of' ,axis=1, inplace=True)\n",
    "df.head()"
   ]
  },
  {
   "cell_type": "code",
   "execution_count": 336,
   "id": "8a82f473-7579-4b9d-9e09-ac17dea8ac5c",
   "metadata": {},
   "outputs": [],
   "source": [
    "#%matplotlib inline\n",
    "#plt.xlabel('Year of Death')\n",
    "#plt.xlabel('Maternal Deaths')\n",
    "#plt.scatter(df['Year of Death'],df['Maternal Deaths'], color='red', marker='*')"
   ]
  },
  {
   "cell_type": "code",
   "execution_count": 337,
   "id": "3454393d-d329-46c4-b44d-66568d7f27b5",
   "metadata": {},
   "outputs": [
    {
     "data": {
      "text/plain": [
       "<matplotlib.collections.PathCollection at 0x1cf3c36f490>"
      ]
     },
     "execution_count": 337,
     "metadata": {},
     "output_type": "execute_result"
    },
    {
     "data": {
      "image/png": "[encoded data removed]",
      "text/plain": [
       "<Figure size 640x480 with 1 Axes>"
      ]
     },
     "metadata": {},
     "output_type": "display_data"
    }
   ],
   "source": [
    "%matplotlib inline\n",
    "plt.xlabel('Month Ending Date')\n",
    "plt.xlabel('Maternal Deaths')\n",
    "plt.scatter(df['Month Ending Date'],df['Maternal Deaths'], color='red', marker='*')\n"
   ]
  },
  {
   "cell_type": "code",
   "execution_count": 338,
   "id": "dc445dba-de15-4175-b07e-fcb0e8df8363",
   "metadata": {},
   "outputs": [
    {
     "data": {
      "text/html": [
       "<style>#sk-container-id-10 {color: black;background-color: white;}#sk-container-id-10 pre{padding: 0;}#sk-container-id-10 div.sk-toggleable {background-color: white;}#sk-container-id-10 label.sk-toggleable__label {cursor: pointer;display: block;width: 100%;margin-bottom: 0;padding: 0.3em;box-sizing: border-box;text-align: center;}#sk-container-id-10 label.sk-toggleable__label-arrow:before {content: \"▸\";float: left;margin-right: 0.25em;color: #696969;}#sk-container-id-10 label.sk-toggleable__label-arrow:hover:before {color: black;}#sk-container-id-10 div.sk-estimator:hover label.sk-toggleable__label-arrow:before {color: black;}#sk-container-id-10 div.sk-toggleable__content {max-height: 0;max-width: 0;overflow: hidden;text-align: left;background-color: #f0f8ff;}#sk-container-id-10 div.sk-toggleable__content pre {margin: 0.2em;color: black;border-radius: 0.25em;background-color: #f0f8ff;}#sk-container-id-10 input.sk-toggleable__control:checked~div.sk-toggleable__content {max-height: 200px;max-width: 100%;overflow: auto;}#sk-container-id-10 input.sk-toggleable__control:checked~label.sk-toggleable__label-arrow:before {content: \"▾\";}#sk-container-id-10 div.sk-estimator input.sk-toggleable__control:checked~label.sk-toggleable__label {background-color: #d4ebff;}#sk-container-id-10 div.sk-label input.sk-toggleable__control:checked~label.sk-toggleable__label {background-color: #d4ebff;}#sk-container-id-10 input.sk-hidden--visually {border: 0;clip: rect(1px 1px 1px 1px);clip: rect(1px, 1px, 1px, 1px);height: 1px;margin: -1px;overflow: hidden;padding: 0;position: absolute;width: 1px;}#sk-container-id-10 div.sk-estimator {font-family: monospace;background-color: #f0f8ff;border: 1px dotted black;border-radius: 0.25em;box-sizing: border-box;margin-bottom: 0.5em;}#sk-container-id-10 div.sk-estimator:hover {background-color: #d4ebff;}#sk-container-id-10 div.sk-parallel-item::after {content: \"\";width: 100%;border-bottom: 1px solid gray;flex-grow: 1;}#sk-container-id-10 div.sk-label:hover label.sk-toggleable__label {background-color: #d4ebff;}#sk-container-id-10 div.sk-serial::before {content: \"\";position: absolute;border-left: 1px solid gray;box-sizing: border-box;top: 0;bottom: 0;left: 50%;z-index: 0;}#sk-container-id-10 div.sk-serial {display: flex;flex-direction: column;align-items: center;background-color: white;padding-right: 0.2em;padding-left: 0.2em;position: relative;}#sk-container-id-10 div.sk-item {position: relative;z-index: 1;}#sk-container-id-10 div.sk-parallel {display: flex;align-items: stretch;justify-content: center;background-color: white;position: relative;}#sk-container-id-10 div.sk-item::before, #sk-container-id-10 div.sk-parallel-item::before {content: \"\";position: absolute;border-left: 1px solid gray;box-sizing: border-box;top: 0;bottom: 0;left: 50%;z-index: -1;}#sk-container-id-10 div.sk-parallel-item {display: flex;flex-direction: column;z-index: 1;position: relative;background-color: white;}#sk-container-id-10 div.sk-parallel-item:first-child::after {align-self: flex-end;width: 50%;}#sk-container-id-10 div.sk-parallel-item:last-child::after {align-self: flex-start;width: 50%;}#sk-container-id-10 div.sk-parallel-item:only-child::after {width: 0;}#sk-container-id-10 div.sk-dashed-wrapped {border: 1px dashed gray;margin: 0 0.4em 0.5em 0.4em;box-sizing: border-box;padding-bottom: 0.4em;background-color: white;}#sk-container-id-10 div.sk-label label {font-family: monospace;font-weight: bold;display: inline-block;line-height: 1.2em;}#sk-container-id-10 div.sk-label-container {text-align: center;}#sk-container-id-10 div.sk-container {/* jupyter's `normalize.less` sets `[hidden] { display: none; }` but bootstrap.min.css set `[hidden] { display: none !important; }` so we also need the `!important` here to be able to override the default hidden behavior on the sphinx rendered scikit-learn.org. See: https://github.com/scikit-learn/scikit-learn/issues/21755 */display: inline-block !important;position: relative;}#sk-container-id-10 div.sk-text-repr-fallback {display: none;}</style><div id=\"sk-container-id-10\" class=\"sk-top-container\"><div class=\"sk-text-repr-fallback\"><pre>LinearRegression()</pre><b>In a Jupyter environment, please rerun this cell to show the HTML representation or trust the notebook. <br />On GitHub, the HTML representation is unable to render, please try loading this page with nbviewer.org.</b></div><div class=\"sk-container\" hidden><div class=\"sk-item\"><div class=\"sk-estimator sk-toggleable\"><input class=\"sk-toggleable__control sk-hidden--visually\" id=\"sk-estimator-id-10\" type=\"checkbox\" checked><label for=\"sk-estimator-id-10\" class=\"sk-toggleable__label sk-toggleable__label-arrow\">LinearRegression</label><div class=\"sk-toggleable__content\"><pre>LinearRegression()</pre></div></div></div></div></div>"
      ],
      "text/plain": [
       "LinearRegression()"
      ]
     },
     "execution_count": 338,
     "metadata": {},
     "output_type": "execute_result"
    }
   ],
   "source": [
    "df['Month Numerical'] = pd.to_datetime(df['Month Ending Date']).map(pd.Timestamp.toordinal)\n",
    "reg = linear_model.LinearRegression()\n",
    "reg.fit(df[['Month Numerical']], df['Maternal Deaths'])\n"
   ]
  },
  {
   "cell_type": "code",
   "execution_count": 342,
   "id": "e3607ed8-3674-49ec-ac29-79a085240755",
   "metadata": {},
   "outputs": [
    {
     "data": {
      "text/html": [
       "<div>\n",
       "<style scoped>\n",
       "    .dataframe tbody tr th:only-of-type {\n",
       "        vertical-align: middle;\n",
       "    }\n",
       "\n",
       "    .dataframe tbody tr th {\n",
       "        vertical-align: top;\n",
       "    }\n",
       "\n",
       "    .dataframe thead th {\n",
       "        text-align: right;\n",
       "    }\n",
       "</style>\n",
       "<table border=\"1\" class=\"dataframe\">\n",
       "  <thead>\n",
       "    <tr style=\"text-align: right;\">\n",
       "      <th></th>\n",
       "      <th>Month Ending Date</th>\n",
       "    </tr>\n",
       "  </thead>\n",
       "  <tbody>\n",
       "    <tr>\n",
       "      <th>0</th>\n",
       "      <td>45322.0</td>\n",
       "    </tr>\n",
       "    <tr>\n",
       "      <th>1</th>\n",
       "      <td>45351.0</td>\n",
       "    </tr>\n",
       "    <tr>\n",
       "      <th>2</th>\n",
       "      <td>45382.0</td>\n",
       "    </tr>\n",
       "  </tbody>\n",
       "</table>\n",
       "</div>"
      ],
      "text/plain": [
       "   Month Ending Date\n",
       "0            45322.0\n",
       "1            45351.0\n",
       "2            45382.0"
      ]
     },
     "execution_count": 342,
     "metadata": {},
     "output_type": "execute_result"
    }
   ],
   "source": [
    "d = pd.read_csv(r\"C:\\Users\\Ashmita\\Desktop\\GWC PROJECT\\Predict.csv\")\n",
    "d.head(3)"
   ]
  },
  {
   "cell_type": "code",
   "execution_count": 343,
   "id": "f9fb6ed4-1aca-4129-a83a-1bb98c7ec1df",
   "metadata": {},
   "outputs": [
    {
     "ename": "ValueError",
     "evalue": "The feature names should match those that were passed during fit.\nFeature names unseen at fit time:\n- Month Ending Date\nFeature names seen at fit time, yet now missing:\n- Month Numerical\n",
     "output_type": "error",
     "traceback": [
      "\u001b[1;31m---------------------------------------------------------------------------\u001b[0m",
      "\u001b[1;31mValueError\u001b[0m                                Traceback (most recent call last)",
      "Cell \u001b[1;32mIn[343], line 1\u001b[0m\n\u001b[1;32m----> 1\u001b[0m p \u001b[38;5;241m=\u001b[39m \u001b[43mreg\u001b[49m\u001b[38;5;241;43m.\u001b[39;49m\u001b[43mpredict\u001b[49m\u001b[43m(\u001b[49m\u001b[43md\u001b[49m\u001b[43m)\u001b[49m\n",
      "File \u001b[1;32m~\\anaconda3\\lib\\site-packages\\sklearn\\linear_model\\_base.py:354\u001b[0m, in \u001b[0;36mLinearModel.predict\u001b[1;34m(self, X)\u001b[0m\n\u001b[0;32m    340\u001b[0m \u001b[38;5;28;01mdef\u001b[39;00m \u001b[38;5;21mpredict\u001b[39m(\u001b[38;5;28mself\u001b[39m, X):\n\u001b[0;32m    341\u001b[0m \u001b[38;5;250m    \u001b[39m\u001b[38;5;124;03m\"\"\"\u001b[39;00m\n\u001b[0;32m    342\u001b[0m \u001b[38;5;124;03m    Predict using the linear model.\u001b[39;00m\n\u001b[0;32m    343\u001b[0m \n\u001b[1;32m   (...)\u001b[0m\n\u001b[0;32m    352\u001b[0m \u001b[38;5;124;03m        Returns predicted values.\u001b[39;00m\n\u001b[0;32m    353\u001b[0m \u001b[38;5;124;03m    \"\"\"\u001b[39;00m\n\u001b[1;32m--> 354\u001b[0m     \u001b[38;5;28;01mreturn\u001b[39;00m \u001b[38;5;28;43mself\u001b[39;49m\u001b[38;5;241;43m.\u001b[39;49m\u001b[43m_decision_function\u001b[49m\u001b[43m(\u001b[49m\u001b[43mX\u001b[49m\u001b[43m)\u001b[49m\n",
      "File \u001b[1;32m~\\anaconda3\\lib\\site-packages\\sklearn\\linear_model\\_base.py:337\u001b[0m, in \u001b[0;36mLinearModel._decision_function\u001b[1;34m(self, X)\u001b[0m\n\u001b[0;32m    334\u001b[0m \u001b[38;5;28;01mdef\u001b[39;00m \u001b[38;5;21m_decision_function\u001b[39m(\u001b[38;5;28mself\u001b[39m, X):\n\u001b[0;32m    335\u001b[0m     check_is_fitted(\u001b[38;5;28mself\u001b[39m)\n\u001b[1;32m--> 337\u001b[0m     X \u001b[38;5;241m=\u001b[39m \u001b[38;5;28;43mself\u001b[39;49m\u001b[38;5;241;43m.\u001b[39;49m\u001b[43m_validate_data\u001b[49m\u001b[43m(\u001b[49m\u001b[43mX\u001b[49m\u001b[43m,\u001b[49m\u001b[43m \u001b[49m\u001b[43maccept_sparse\u001b[49m\u001b[38;5;241;43m=\u001b[39;49m\u001b[43m[\u001b[49m\u001b[38;5;124;43m\"\u001b[39;49m\u001b[38;5;124;43mcsr\u001b[39;49m\u001b[38;5;124;43m\"\u001b[39;49m\u001b[43m,\u001b[49m\u001b[43m \u001b[49m\u001b[38;5;124;43m\"\u001b[39;49m\u001b[38;5;124;43mcsc\u001b[39;49m\u001b[38;5;124;43m\"\u001b[39;49m\u001b[43m,\u001b[49m\u001b[43m \u001b[49m\u001b[38;5;124;43m\"\u001b[39;49m\u001b[38;5;124;43mcoo\u001b[39;49m\u001b[38;5;124;43m\"\u001b[39;49m\u001b[43m]\u001b[49m\u001b[43m,\u001b[49m\u001b[43m \u001b[49m\u001b[43mreset\u001b[49m\u001b[38;5;241;43m=\u001b[39;49m\u001b[38;5;28;43;01mFalse\u001b[39;49;00m\u001b[43m)\u001b[49m\n\u001b[0;32m    338\u001b[0m     \u001b[38;5;28;01mreturn\u001b[39;00m safe_sparse_dot(X, \u001b[38;5;28mself\u001b[39m\u001b[38;5;241m.\u001b[39mcoef_\u001b[38;5;241m.\u001b[39mT, dense_output\u001b[38;5;241m=\u001b[39m\u001b[38;5;28;01mTrue\u001b[39;00m) \u001b[38;5;241m+\u001b[39m \u001b[38;5;28mself\u001b[39m\u001b[38;5;241m.\u001b[39mintercept_\n",
      "File \u001b[1;32m~\\anaconda3\\lib\\site-packages\\sklearn\\base.py:529\u001b[0m, in \u001b[0;36mBaseEstimator._validate_data\u001b[1;34m(self, X, y, reset, validate_separately, **check_params)\u001b[0m\n\u001b[0;32m    464\u001b[0m \u001b[38;5;28;01mdef\u001b[39;00m \u001b[38;5;21m_validate_data\u001b[39m(\n\u001b[0;32m    465\u001b[0m     \u001b[38;5;28mself\u001b[39m,\n\u001b[0;32m    466\u001b[0m     X\u001b[38;5;241m=\u001b[39m\u001b[38;5;124m\"\u001b[39m\u001b[38;5;124mno_validation\u001b[39m\u001b[38;5;124m\"\u001b[39m,\n\u001b[1;32m   (...)\u001b[0m\n\u001b[0;32m    470\u001b[0m     \u001b[38;5;241m*\u001b[39m\u001b[38;5;241m*\u001b[39mcheck_params,\n\u001b[0;32m    471\u001b[0m ):\n\u001b[0;32m    472\u001b[0m \u001b[38;5;250m    \u001b[39m\u001b[38;5;124;03m\"\"\"Validate input data and set or check the `n_features_in_` attribute.\u001b[39;00m\n\u001b[0;32m    473\u001b[0m \n\u001b[0;32m    474\u001b[0m \u001b[38;5;124;03m    Parameters\u001b[39;00m\n\u001b[1;32m   (...)\u001b[0m\n\u001b[0;32m    527\u001b[0m \u001b[38;5;124;03m        validated.\u001b[39;00m\n\u001b[0;32m    528\u001b[0m \u001b[38;5;124;03m    \"\"\"\u001b[39;00m\n\u001b[1;32m--> 529\u001b[0m     \u001b[38;5;28;43mself\u001b[39;49m\u001b[38;5;241;43m.\u001b[39;49m\u001b[43m_check_feature_names\u001b[49m\u001b[43m(\u001b[49m\u001b[43mX\u001b[49m\u001b[43m,\u001b[49m\u001b[43m \u001b[49m\u001b[43mreset\u001b[49m\u001b[38;5;241;43m=\u001b[39;49m\u001b[43mreset\u001b[49m\u001b[43m)\u001b[49m\n\u001b[0;32m    531\u001b[0m     \u001b[38;5;28;01mif\u001b[39;00m y \u001b[38;5;129;01mis\u001b[39;00m \u001b[38;5;28;01mNone\u001b[39;00m \u001b[38;5;129;01mand\u001b[39;00m \u001b[38;5;28mself\u001b[39m\u001b[38;5;241m.\u001b[39m_get_tags()[\u001b[38;5;124m\"\u001b[39m\u001b[38;5;124mrequires_y\u001b[39m\u001b[38;5;124m\"\u001b[39m]:\n\u001b[0;32m    532\u001b[0m         \u001b[38;5;28;01mraise\u001b[39;00m \u001b[38;5;167;01mValueError\u001b[39;00m(\n\u001b[0;32m    533\u001b[0m             \u001b[38;5;124mf\u001b[39m\u001b[38;5;124m\"\u001b[39m\u001b[38;5;124mThis \u001b[39m\u001b[38;5;132;01m{\u001b[39;00m\u001b[38;5;28mself\u001b[39m\u001b[38;5;241m.\u001b[39m\u001b[38;5;18m__class__\u001b[39m\u001b[38;5;241m.\u001b[39m\u001b[38;5;18m__name__\u001b[39m\u001b[38;5;132;01m}\u001b[39;00m\u001b[38;5;124m estimator \u001b[39m\u001b[38;5;124m\"\u001b[39m\n\u001b[0;32m    534\u001b[0m             \u001b[38;5;124m\"\u001b[39m\u001b[38;5;124mrequires y to be passed, but the target y is None.\u001b[39m\u001b[38;5;124m\"\u001b[39m\n\u001b[0;32m    535\u001b[0m         )\n",
      "File \u001b[1;32m~\\anaconda3\\lib\\site-packages\\sklearn\\base.py:462\u001b[0m, in \u001b[0;36mBaseEstimator._check_feature_names\u001b[1;34m(self, X, reset)\u001b[0m\n\u001b[0;32m    457\u001b[0m \u001b[38;5;28;01mif\u001b[39;00m \u001b[38;5;129;01mnot\u001b[39;00m missing_names \u001b[38;5;129;01mand\u001b[39;00m \u001b[38;5;129;01mnot\u001b[39;00m unexpected_names:\n\u001b[0;32m    458\u001b[0m     message \u001b[38;5;241m+\u001b[39m\u001b[38;5;241m=\u001b[39m (\n\u001b[0;32m    459\u001b[0m         \u001b[38;5;124m\"\u001b[39m\u001b[38;5;124mFeature names must be in the same order as they were in fit.\u001b[39m\u001b[38;5;130;01m\\n\u001b[39;00m\u001b[38;5;124m\"\u001b[39m\n\u001b[0;32m    460\u001b[0m     )\n\u001b[1;32m--> 462\u001b[0m \u001b[38;5;28;01mraise\u001b[39;00m \u001b[38;5;167;01mValueError\u001b[39;00m(message)\n",
      "\u001b[1;31mValueError\u001b[0m: The feature names should match those that were passed during fit.\nFeature names unseen at fit time:\n- Month Ending Date\nFeature names seen at fit time, yet now missing:\n- Month Numerical\n"
     ]
    }
   ],
   "source": [
    "p = reg.predict(d)"
   ]
  },
  {
   "cell_type": "code",
   "execution_count": 344,
   "id": "4910425e-e625-412b-9990-4ff8e3c78953",
   "metadata": {},
   "outputs": [],
   "source": [
    "d['Maternal Deaths'] = p"
   ]
  },
  {
   "cell_type": "code",
   "execution_count": null,
   "id": "44fd7910-bf6b-4227-b2e2-a454807f3cad",
   "metadata": {},
   "outputs": [],
   "source": [
    "d"
   ]
  },
  {
   "cell_type": "code",
   "execution_count": null,
   "id": "b3fc64b3-d2d4-43d0-991c-704ce01ef057",
   "metadata": {},
   "outputs": [],
   "source": []
  },
  {
   "cell_type": "code",
   "execution_count": null,
   "id": "03c42b3a-f7aa-4174-9673-3270289ac327",
   "metadata": {},
   "outputs": [],
   "source": [
    "# Independent variables: All columns except 'charges'\n",
    "X = df.drop('Maternal Deaths', axis = 1)\n",
    "\n",
    "# Dependent variable: charges\n",
    "y = df['Maternal Deaths']"
   ]
  },
  {
   "cell_type": "code",
   "execution_count": null,
   "id": "0e8ce252-5f59-4d02-a77c-65b026d9f2d3",
   "metadata": {},
   "outputs": [],
   "source": [
    "type(X)"
   ]
  },
  {
   "cell_type": "code",
   "execution_count": null,
   "id": "6e416ac9-3ed6-4a0c-862c-33752fc0ed1d",
   "metadata": {},
   "outputs": [],
   "source": [
    "X.head()"
   ]
  },
  {
   "cell_type": "code",
   "execution_count": null,
   "id": "db713e33-df69-435d-8e49-703053959e80",
   "metadata": {},
   "outputs": [],
   "source": [
    "y.shape"
   ]
  },
  {
   "cell_type": "code",
   "execution_count": null,
   "id": "3488341f-0ea3-4da7-97ff-bf65c80dba29",
   "metadata": {},
   "outputs": [],
   "source": [
    "type(y)"
   ]
  },
  {
   "cell_type": "code",
   "execution_count": null,
   "id": "932b358e-9cf2-4eff-a094-bb823a736bb4",
   "metadata": {},
   "outputs": [],
   "source": [
    "y.head()"
   ]
  },
  {
   "cell_type": "code",
   "execution_count": null,
   "id": "3a861f2a-09d7-4f26-a618-2db1f0c783e9",
   "metadata": {},
   "outputs": [],
   "source": []
  },
  {
   "cell_type": "code",
   "execution_count": null,
   "id": "f126e975-c222-45f8-8313-8ac3f1d499d1",
   "metadata": {},
   "outputs": [],
   "source": []
  },
  {
   "cell_type": "code",
   "execution_count": null,
   "id": "4b88c31f-efc1-4346-a7f7-eb541ebb7b75",
   "metadata": {},
   "outputs": [],
   "source": []
  },
  {
   "cell_type": "code",
   "execution_count": null,
   "id": "d949dffd-5d5b-40ef-be1a-3a2f99f6d99e",
   "metadata": {},
   "outputs": [],
   "source": []
  },
  {
   "cell_type": "markdown",
   "id": "851f4f2b-41e3-44cb-8021-c35fea84953a",
   "metadata": {
    "tags": []
   },
   "source": [
    "### Separate independent and dependent variables"
   ]
  },
  {
   "cell_type": "code",
   "execution_count": null,
   "id": "5a7bf5b0-2bb0-4494-9211-65add8b1ec6e",
   "metadata": {},
   "outputs": [],
   "source": [
    "# 70% training set, 30% test set\n",
    "X_train, X_test, y_train, y_test = train_test_split(X, y, test_size=0.3, random_state=10)"
   ]
  },
  {
   "cell_type": "markdown",
   "id": "b485d375-893e-4633-9b78-c13d098fb332",
   "metadata": {
    "tags": []
   },
   "source": [
    "### Train Linear Regression model"
   ]
  },
  {
   "cell_type": "code",
   "execution_count": null,
   "id": "e7c86a9d-ea96-4bca-aae6-9dee8bbf2861",
   "metadata": {},
   "outputs": [],
   "source": [
    "# Instantiate LinearRegression model\n",
    "model = LinearRegression()"
   ]
  },
  {
   "cell_type": "code",
   "execution_count": null,
   "id": "22a2ec0f-e65c-4a94-bb88-bb4f692ba0df",
   "metadata": {},
   "outputs": [],
   "source": [
    "# Fit LinearRegression model\n",
    "model.fit(X_train, y_train)"
   ]
  },
  {
   "cell_type": "code",
   "execution_count": null,
   "id": "f37d3847-b424-4be6-abfa-d3cc7b9a00f9",
   "metadata": {},
   "outputs": [],
   "source": [
    "# Calculate model performance for training set\n",
    "y_train_predict = model.predict(X_train)\n",
    "mse = mean_squared_error(y_train, y_train_predict)\n",
    "rmse = np.sqrt(mse)\n",
    "\n",
    "print(\"Model performance for training set\")\n",
    "print(\"----------------------------------\")\n",
    "print(\"MSE is {}\".format(round(mse,2)))\n",
    "print(\"RMSE is {}\".format(round(rmse,2)))"
   ]
  },
  {
   "cell_type": "code",
   "execution_count": null,
   "id": "40be00ae-9208-4a29-b15e-24d2df561aae",
   "metadata": {},
   "outputs": [],
   "source": [
    "# Calculate model performance for test set\n",
    "y_pred = model.predict(X_test)\n",
    "mse = mean_squared_error(y_test, y_pred)\n",
    "rmse = np.sqrt(mse)\n",
    "\n",
    "print(\"Model performance for test set\")\n",
    "print(\"------------------------------\")\n",
    "print(\"MSE is {}\".format(round(mse,2)))\n",
    "print(\"RMSE is {}\".format(round(rmse,2)))"
   ]
  },
  {
   "cell_type": "code",
   "execution_count": null,
   "id": "19f52b9e-15b9-4f32-9502-a80f8b8aeb81",
   "metadata": {},
   "outputs": [],
   "source": [
    "model.intercept_"
   ]
  },
  {
   "cell_type": "code",
   "execution_count": null,
   "id": "b79d1aa1-92ee-4649-8450-512350e5c6bf",
   "metadata": {},
   "outputs": [],
   "source": [
    "model.coef_"
   ]
  },
  {
   "cell_type": "code",
   "execution_count": null,
   "id": "30ba4754-cc85-4960-8e6a-d103ff416504",
   "metadata": {},
   "outputs": [],
   "source": [
    "min_values = X.min()\n",
    "min_values"
   ]
  },
  {
   "cell_type": "code",
   "execution_count": null,
   "id": "99498b24-299c-45d5-b5ab-106621797629",
   "metadata": {},
   "outputs": [],
   "source": [
    "max_values = X.max()\n",
    "max_values"
   ]
  },
  {
   "cell_type": "markdown",
   "id": "8a20ec82-dc2c-4766-93b2-334f50d85192",
   "metadata": {},
   "source": [
    "### Execute model with new independent variable values\n"
   ]
  },
  {
   "cell_type": "code",
   "execution_count": null,
   "id": "ca6d62ae-64ab-4643-ae27-896515b005f6",
   "metadata": {},
   "outputs": [],
   "source": []
  }
 ],
 "metadata": {
  "kernelspec": {
   "display_name": "Python 3 (ipykernel)",
   "language": "python",
   "name": "python3"
  },
  "language_info": {
   "codemirror_mode": {
    "name": "ipython",
    "version": 3
   },
   "file_extension": ".py",
   "mimetype": "text/x-python",
   "name": "python",
   "nbconvert_exporter": "python",
   "pygments_lexer": "ipython3",
   "version": "3.10.9"
  }
 },
 "nbformat": 4,
 "nbformat_minor": 5
}
